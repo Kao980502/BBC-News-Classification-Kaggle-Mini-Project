{
 "cells": [
  {
   "cell_type": "markdown",
   "metadata": {
    "id": "w6o4B8U2hdHN"
   },
   "source": [
    "# BBC News Classification Kaggle Mini-Project"
   ]
  },
  {
   "cell_type": "markdown",
   "metadata": {
    "id": "TkahdQ0mhm22"
   },
   "source": [
    "# Brief description of the problem and data"
   ]
  },
  {
   "cell_type": "markdown",
   "metadata": {
    "id": "LrWrasNuhuon"
   },
   "source": [
    "This dataset contains about 1.7k news paragraphs. They fall into the following 5 categories, business, tech, sports, entertainment, or politics. Our goal is to use Matrix Factorization to predict the category of a given news. "
   ]
  },
  {
   "cell_type": "markdown",
   "metadata": {
    "id": "zs-As_39h3Yx"
   },
   "source": [
    "# Exploratory Data Analysis (EDA) — Inspect, Visualize and Clean the Data"
   ]
  },
  {
   "attachments": {
    "image.png": {
     "image/png": "[encoded data removed]"
    }
   },
   "cell_type": "markdown",
   "metadata": {
    "id": "Jef4CdNriAhQ"
   },
   "source": [
    "![image.png](attachment:image.png)\\\n",
    "The dataset is unbalanced. Entertainment news are fewer than the other categories. \n",
    "There are some tokens in the text that might interfere with model training, for example, punctuation. They should be removed before training. Some of the longer articles may unnecessarily increase complexity. As a result, I dropped articles with more than 750 tokens.\n"
   ]
  },
  {
   "cell_type": "markdown",
   "metadata": {
    "id": "AtErRojNisd7"
   },
   "source": [
    "# Model Architecture"
   ]
  },
  {
   "cell_type": "markdown",
   "metadata": {
    "id": "Aj1-pLfQixHl"
   },
   "source": [
    "Preprocessing is described in the previous section. The following is the remaining of the data processing pipeline.\n",
    "  1.\tFeature Extraction\\\n",
    "    •\tTF-IDF Vectorization: The cleaned text is converted into a numerical matrix where each entry represents the importance of a word in a document relative to the entire dataset. \n",
    "  2.\tTopic Modeling with NMF\\\n",
    "    •\tNMF Overview: Non-negative Matrix Factorization decomposes the TF-IDF matrix into two components:\\\n",
    "            o\tA topic distribution matrix (W).\\\n",
    "            o\tA word-to-topic association matrix (H).\\\n",
    "    •\tClustering Articles: Articles are grouped based on their strongest topic association from the W matrix.\n",
    "  3.\tLabel Matching\\\n",
    "    •\tNMF is unsupervised, the model assigns numeric labels (0-4) to topics. The label_permute function permutes these labels to align them with the ground truth labels for accuracy assessment.\\ \n",
    "    \n",
    "  Why This Method Is Suitable?\\\n",
    "      1.\tDimensionality Reduction: NMF simplifies the complex relationships in the high-dimensional TF-IDF matrix, making topic detection computationally efficient.\\\n",
    "      2.\tEffective for Text Data: TF-IDF captures word importance, and NMF effectively identifies co-occurring patterns in words, which is crucial for topic discovery.\n",
    "\n"
   ]
  },
  {
   "cell_type": "markdown",
   "metadata": {
    "id": "LaSBBRegi9Nc"
   },
   "source": [
    "# Results and Analysis"
   ]
  },
  {
   "cell_type": "markdown",
   "metadata": {
    "id": "uQvOpQF2jBiM"
   },
   "source": [
    "We have achieved 96% acc on the private dataset. While the matrix factorization steps are pretty much fixed (Vectorization followed by NMF), we experimented with different NMF parameters. While most of the parameters slightly worsen the result, changing l2 loss to l1 loss causes acc to drop to 17%"
   ]
  },
  {
   "cell_type": "markdown",
   "metadata": {
    "id": "BXmRkXmQjLVZ"
   },
   "source": [
    "# Conclusion"
   ]
  },
  {
   "cell_type": "markdown",
   "metadata": {
    "id": "UoG84tjFjQWu"
   },
   "source": [
    "I learned that unsupervised methods can be applied on labeled data, too. Moreover, the performance is actually pretty good! While playing with NMF parameters did not work out well, I learned they can utterly ruin the prediction, if not choose properly."
   ]
  }
 ],
 "metadata": {
  "colab": {
   "provenance": []
  },
  "kernelspec": {
   "display_name": "Python 3",
   "name": "python3"
  },
  "language_info": {
   "name": "python"
  }
 },
 "nbformat": 4,
 "nbformat_minor": 0
}
